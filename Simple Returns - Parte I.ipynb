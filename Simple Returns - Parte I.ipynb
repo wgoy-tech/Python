{
 "cells": [
  {
   "cell_type": "code",
   "execution_count": 1,
   "metadata": {},
   "outputs": [],
   "source": [
    "import numpy as np\n",
    "from pandas_datareader import data as wb\n",
    "import matplotlib.pyplot as plt"
   ]
  },
  {
   "cell_type": "code",
   "execution_count": 3,
   "metadata": {},
   "outputs": [],
   "source": [
    "ITAUSA = wb.DataReader('ITSA4.SA', data_source='yahoo',start='2009-1-1')"
   ]
  },
  {
   "cell_type": "code",
   "execution_count": 4,
   "metadata": {},
   "outputs": [
    {
     "data": {
      "text/html": [
       "<div>\n",
       "<style scoped>\n",
       "    .dataframe tbody tr th:only-of-type {\n",
       "        vertical-align: middle;\n",
       "    }\n",
       "\n",
       "    .dataframe tbody tr th {\n",
       "        vertical-align: top;\n",
       "    }\n",
       "\n",
       "    .dataframe thead th {\n",
       "        text-align: right;\n",
       "    }\n",
       "</style>\n",
       "<table border=\"1\" class=\"dataframe\">\n",
       "  <thead>\n",
       "    <tr style=\"text-align: right;\">\n",
       "      <th></th>\n",
       "      <th>High</th>\n",
       "      <th>Low</th>\n",
       "      <th>Open</th>\n",
       "      <th>Close</th>\n",
       "      <th>Volume</th>\n",
       "      <th>Adj Close</th>\n",
       "    </tr>\n",
       "    <tr>\n",
       "      <th>Date</th>\n",
       "      <th></th>\n",
       "      <th></th>\n",
       "      <th></th>\n",
       "      <th></th>\n",
       "      <th></th>\n",
       "      <th></th>\n",
       "    </tr>\n",
       "  </thead>\n",
       "  <tbody>\n",
       "    <tr>\n",
       "      <td>2009-01-02</td>\n",
       "      <td>4.29542</td>\n",
       "      <td>3.95238</td>\n",
       "      <td>4.02696</td>\n",
       "      <td>4.28548</td>\n",
       "      <td>9573670.0</td>\n",
       "      <td>2.603240</td>\n",
       "    </tr>\n",
       "    <tr>\n",
       "      <td>2009-01-05</td>\n",
       "      <td>4.32525</td>\n",
       "      <td>4.20593</td>\n",
       "      <td>4.25068</td>\n",
       "      <td>4.26559</td>\n",
       "      <td>16777255.0</td>\n",
       "      <td>2.591157</td>\n",
       "    </tr>\n",
       "    <tr>\n",
       "      <td>2009-01-06</td>\n",
       "      <td>4.42965</td>\n",
       "      <td>4.26062</td>\n",
       "      <td>4.27554</td>\n",
       "      <td>4.39982</td>\n",
       "      <td>18157508.0</td>\n",
       "      <td>2.672696</td>\n",
       "    </tr>\n",
       "    <tr>\n",
       "      <td>2009-01-07</td>\n",
       "      <td>4.36502</td>\n",
       "      <td>4.16119</td>\n",
       "      <td>4.32028</td>\n",
       "      <td>4.19102</td>\n",
       "      <td>14289299.0</td>\n",
       "      <td>2.545859</td>\n",
       "    </tr>\n",
       "    <tr>\n",
       "      <td>2009-01-08</td>\n",
       "      <td>4.24571</td>\n",
       "      <td>4.13136</td>\n",
       "      <td>4.19102</td>\n",
       "      <td>4.23576</td>\n",
       "      <td>9849439.0</td>\n",
       "      <td>2.573036</td>\n",
       "    </tr>\n",
       "  </tbody>\n",
       "</table>\n",
       "</div>"
      ],
      "text/plain": [
       "               High      Low     Open    Close      Volume  Adj Close\n",
       "Date                                                                 \n",
       "2009-01-02  4.29542  3.95238  4.02696  4.28548   9573670.0   2.603240\n",
       "2009-01-05  4.32525  4.20593  4.25068  4.26559  16777255.0   2.591157\n",
       "2009-01-06  4.42965  4.26062  4.27554  4.39982  18157508.0   2.672696\n",
       "2009-01-07  4.36502  4.16119  4.32028  4.19102  14289299.0   2.545859\n",
       "2009-01-08  4.24571  4.13136  4.19102  4.23576   9849439.0   2.573036"
      ]
     },
     "execution_count": 4,
     "metadata": {},
     "output_type": "execute_result"
    }
   ],
   "source": [
    "ITAUSA.head()"
   ]
  },
  {
   "cell_type": "code",
   "execution_count": 5,
   "metadata": {},
   "outputs": [
    {
     "data": {
      "text/html": [
       "<div>\n",
       "<style scoped>\n",
       "    .dataframe tbody tr th:only-of-type {\n",
       "        vertical-align: middle;\n",
       "    }\n",
       "\n",
       "    .dataframe tbody tr th {\n",
       "        vertical-align: top;\n",
       "    }\n",
       "\n",
       "    .dataframe thead th {\n",
       "        text-align: right;\n",
       "    }\n",
       "</style>\n",
       "<table border=\"1\" class=\"dataframe\">\n",
       "  <thead>\n",
       "    <tr style=\"text-align: right;\">\n",
       "      <th></th>\n",
       "      <th>High</th>\n",
       "      <th>Low</th>\n",
       "      <th>Open</th>\n",
       "      <th>Close</th>\n",
       "      <th>Volume</th>\n",
       "      <th>Adj Close</th>\n",
       "    </tr>\n",
       "    <tr>\n",
       "      <th>Date</th>\n",
       "      <th></th>\n",
       "      <th></th>\n",
       "      <th></th>\n",
       "      <th></th>\n",
       "      <th></th>\n",
       "      <th></th>\n",
       "    </tr>\n",
       "  </thead>\n",
       "  <tbody>\n",
       "    <tr>\n",
       "      <td>2019-11-12</td>\n",
       "      <td>13.78</td>\n",
       "      <td>13.50</td>\n",
       "      <td>13.78</td>\n",
       "      <td>13.73</td>\n",
       "      <td>15651100.0</td>\n",
       "      <td>13.73</td>\n",
       "    </tr>\n",
       "    <tr>\n",
       "      <td>2019-11-13</td>\n",
       "      <td>13.70</td>\n",
       "      <td>13.39</td>\n",
       "      <td>13.67</td>\n",
       "      <td>13.50</td>\n",
       "      <td>22174400.0</td>\n",
       "      <td>13.50</td>\n",
       "    </tr>\n",
       "    <tr>\n",
       "      <td>2019-11-14</td>\n",
       "      <td>13.66</td>\n",
       "      <td>13.42</td>\n",
       "      <td>13.51</td>\n",
       "      <td>13.63</td>\n",
       "      <td>12358200.0</td>\n",
       "      <td>13.63</td>\n",
       "    </tr>\n",
       "    <tr>\n",
       "      <td>2019-11-18</td>\n",
       "      <td>13.82</td>\n",
       "      <td>13.60</td>\n",
       "      <td>13.73</td>\n",
       "      <td>13.60</td>\n",
       "      <td>14381500.0</td>\n",
       "      <td>13.60</td>\n",
       "    </tr>\n",
       "    <tr>\n",
       "      <td>2019-11-19</td>\n",
       "      <td>13.67</td>\n",
       "      <td>13.35</td>\n",
       "      <td>13.62</td>\n",
       "      <td>13.42</td>\n",
       "      <td>17416200.0</td>\n",
       "      <td>13.42</td>\n",
       "    </tr>\n",
       "  </tbody>\n",
       "</table>\n",
       "</div>"
      ],
      "text/plain": [
       "             High    Low   Open  Close      Volume  Adj Close\n",
       "Date                                                         \n",
       "2019-11-12  13.78  13.50  13.78  13.73  15651100.0      13.73\n",
       "2019-11-13  13.70  13.39  13.67  13.50  22174400.0      13.50\n",
       "2019-11-14  13.66  13.42  13.51  13.63  12358200.0      13.63\n",
       "2019-11-18  13.82  13.60  13.73  13.60  14381500.0      13.60\n",
       "2019-11-19  13.67  13.35  13.62  13.42  17416200.0      13.42"
      ]
     },
     "execution_count": 5,
     "metadata": {},
     "output_type": "execute_result"
    }
   ],
   "source": [
    "ITAUSA.tail()"
   ]
  },
  {
   "cell_type": "code",
   "execution_count": 26,
   "metadata": {},
   "outputs": [],
   "source": [
    "ITAUSA['simple_return'] = (ITAUSA['Adj Close'] / ITAUSA['Adj Close'].shift(1)) -1"
   ]
  },
  {
   "cell_type": "code",
   "execution_count": 27,
   "metadata": {},
   "outputs": [
    {
     "name": "stdout",
     "output_type": "stream",
     "text": [
      "Date\n",
      "2009-01-02         NaN\n",
      "2009-01-05   -0.004641\n",
      "2009-01-06    0.031468\n",
      "2009-01-07   -0.047456\n",
      "2009-01-08    0.010675\n",
      "                ...   \n",
      "2019-11-12   -0.011519\n",
      "2019-11-13   -0.016752\n",
      "2019-11-14    0.009630\n",
      "2019-11-18   -0.002201\n",
      "2019-11-19   -0.013235\n",
      "Name: simple_return, Length: 2686, dtype: float64\n"
     ]
    }
   ],
   "source": [
    "print (ITAUSA['simple_return'])"
   ]
  },
  {
   "cell_type": "code",
   "execution_count": 33,
   "metadata": {},
   "outputs": [
    {
     "data": {
      "text/plain": [
       "<matplotlib.axes._subplots.AxesSubplot at 0x213c39afd88>"
      ]
     },
     "execution_count": 33,
     "metadata": {},
     "output_type": "execute_result"
    },
    {
     "data": {
      "image/png": "[encoded data removed]",
      "text/plain": [
       "<Figure size 576x360 with 1 Axes>"
      ]
     },
     "metadata": {
      "needs_background": "light"
     },
     "output_type": "display_data"
    }
   ],
   "source": [
    "ITAUSA['simple_return'].plot(figsize=(8,5))"
   ]
  },
  {
   "cell_type": "code",
   "execution_count": 38,
   "metadata": {},
   "outputs": [
    {
     "data": {
      "text/plain": [
       "0.0008756057174903166"
      ]
     },
     "execution_count": 38,
     "metadata": {},
     "output_type": "execute_result"
    }
   ],
   "source": [
    "avg_returns_d = ITAUSA['simple_return'].mean()\n",
    "avg_returns_d"
   ]
  },
  {
   "cell_type": "code",
   "execution_count": 53,
   "metadata": {},
   "outputs": [
    {
     "data": {
      "text/plain": [
       "0.21890142937257914"
      ]
     },
     "execution_count": 53,
     "metadata": {},
     "output_type": "execute_result"
    }
   ],
   "source": [
    "avg_returns_a = ITAUSA['simple_return'].mean() * 250\n",
    "media = avg_returns_a\n",
    "media"
   ]
  },
  {
   "cell_type": "code",
   "execution_count": 61,
   "metadata": {},
   "outputs": [
    {
     "name": "stdout",
     "output_type": "stream",
     "text": [
      "21.89%\n"
     ]
    }
   ],
   "source": [
    "print (str(round(media, 5) * 100) + '%')"
   ]
  }
 ],
 "metadata": {
  "kernelspec": {
   "display_name": "Python 3",
   "language": "python",
   "name": "python3"
  },
  "language_info": {
   "codemirror_mode": {
    "name": "ipython",
    "version": 3
   },
   "file_extension": ".py",
   "mimetype": "text/x-python",
   "name": "python",
   "nbconvert_exporter": "python",
   "pygments_lexer": "ipython3",
   "version": "3.7.4"
  }
 },
 "nbformat": 4,
 "nbformat_minor": 2
}
