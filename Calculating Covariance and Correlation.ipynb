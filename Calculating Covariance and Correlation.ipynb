{
 "cells": [
  {
   "cell_type": "code",
   "execution_count": 5,
   "metadata": {},
   "outputs": [],
   "source": [
    "import numpy as np\n",
    "import pandas \n",
    "from pandas_datareader import data as wb\n",
    "import matplotlib.pyplot as plt"
   ]
  },
  {
   "cell_type": "code",
   "execution_count": 15,
   "metadata": {},
   "outputs": [],
   "source": [
    "tickers = ['PETR4.SA', 'ITUB3.SA', 'VALE3.SA', 'WEGE3.SA', 'ABEV3.SA']\n",
    "sec_data = pandas.DataFrame()\n",
    "for t in tickers:\n",
    "    sec_data[t] = wb.DataReader(t, data_source='yahoo', start='2009-1-1')['Adj Close']"
   ]
  },
  {
   "cell_type": "code",
   "execution_count": 17,
   "metadata": {},
   "outputs": [
    {
     "data": {
      "text/html": [
       "<div>\n",
       "<style scoped>\n",
       "    .dataframe tbody tr th:only-of-type {\n",
       "        vertical-align: middle;\n",
       "    }\n",
       "\n",
       "    .dataframe tbody tr th {\n",
       "        vertical-align: top;\n",
       "    }\n",
       "\n",
       "    .dataframe thead th {\n",
       "        text-align: right;\n",
       "    }\n",
       "</style>\n",
       "<table border=\"1\" class=\"dataframe\">\n",
       "  <thead>\n",
       "    <tr style=\"text-align: right;\">\n",
       "      <th></th>\n",
       "      <th>PETR4.SA</th>\n",
       "      <th>ITUB3.SA</th>\n",
       "      <th>VALE3.SA</th>\n",
       "      <th>WEGE3.SA</th>\n",
       "      <th>ABEV3.SA</th>\n",
       "    </tr>\n",
       "    <tr>\n",
       "      <th>Date</th>\n",
       "      <th></th>\n",
       "      <th></th>\n",
       "      <th></th>\n",
       "      <th></th>\n",
       "      <th></th>\n",
       "    </tr>\n",
       "  </thead>\n",
       "  <tbody>\n",
       "    <tr>\n",
       "      <td>2019-11-18</td>\n",
       "      <td>29.080000</td>\n",
       "      <td>30.809999</td>\n",
       "      <td>47.610001</td>\n",
       "      <td>29.299999</td>\n",
       "      <td>17.559999</td>\n",
       "    </tr>\n",
       "    <tr>\n",
       "      <td>2019-11-19</td>\n",
       "      <td>28.780001</td>\n",
       "      <td>30.299999</td>\n",
       "      <td>48.169998</td>\n",
       "      <td>29.200001</td>\n",
       "      <td>17.670000</td>\n",
       "    </tr>\n",
       "    <tr>\n",
       "      <td>2019-11-21</td>\n",
       "      <td>29.850000</td>\n",
       "      <td>30.760000</td>\n",
       "      <td>48.419998</td>\n",
       "      <td>28.879999</td>\n",
       "      <td>18.070000</td>\n",
       "    </tr>\n",
       "    <tr>\n",
       "      <td>2019-11-22</td>\n",
       "      <td>29.980000</td>\n",
       "      <td>30.730000</td>\n",
       "      <td>50.029999</td>\n",
       "      <td>29.059999</td>\n",
       "      <td>18.190001</td>\n",
       "    </tr>\n",
       "    <tr>\n",
       "      <td>2019-11-25</td>\n",
       "      <td>29.730000</td>\n",
       "      <td>30.440001</td>\n",
       "      <td>50.860001</td>\n",
       "      <td>29.100000</td>\n",
       "      <td>18.200001</td>\n",
       "    </tr>\n",
       "  </tbody>\n",
       "</table>\n",
       "</div>"
      ],
      "text/plain": [
       "             PETR4.SA   ITUB3.SA   VALE3.SA   WEGE3.SA   ABEV3.SA\n",
       "Date                                                             \n",
       "2019-11-18  29.080000  30.809999  47.610001  29.299999  17.559999\n",
       "2019-11-19  28.780001  30.299999  48.169998  29.200001  17.670000\n",
       "2019-11-21  29.850000  30.760000  48.419998  28.879999  18.070000\n",
       "2019-11-22  29.980000  30.730000  50.029999  29.059999  18.190001\n",
       "2019-11-25  29.730000  30.440001  50.860001  29.100000  18.200001"
      ]
     },
     "execution_count": 17,
     "metadata": {},
     "output_type": "execute_result"
    }
   ],
   "source": [
    "sec_data.tail()"
   ]
  },
  {
   "cell_type": "code",
   "execution_count": 18,
   "metadata": {},
   "outputs": [],
   "source": [
    "sec_returns = np.log(sec_data / sec_data.shift(1))"
   ]
  },
  {
   "cell_type": "code",
   "execution_count": 19,
   "metadata": {},
   "outputs": [
    {
     "data": {
      "text/html": [
       "<div>\n",
       "<style scoped>\n",
       "    .dataframe tbody tr th:only-of-type {\n",
       "        vertical-align: middle;\n",
       "    }\n",
       "\n",
       "    .dataframe tbody tr th {\n",
       "        vertical-align: top;\n",
       "    }\n",
       "\n",
       "    .dataframe thead th {\n",
       "        text-align: right;\n",
       "    }\n",
       "</style>\n",
       "<table border=\"1\" class=\"dataframe\">\n",
       "  <thead>\n",
       "    <tr style=\"text-align: right;\">\n",
       "      <th></th>\n",
       "      <th>PETR4.SA</th>\n",
       "      <th>ITUB3.SA</th>\n",
       "      <th>VALE3.SA</th>\n",
       "      <th>WEGE3.SA</th>\n",
       "      <th>ABEV3.SA</th>\n",
       "    </tr>\n",
       "    <tr>\n",
       "      <th>Date</th>\n",
       "      <th></th>\n",
       "      <th></th>\n",
       "      <th></th>\n",
       "      <th></th>\n",
       "      <th></th>\n",
       "    </tr>\n",
       "  </thead>\n",
       "  <tbody>\n",
       "    <tr>\n",
       "      <td>2009-01-02</td>\n",
       "      <td>NaN</td>\n",
       "      <td>NaN</td>\n",
       "      <td>NaN</td>\n",
       "      <td>NaN</td>\n",
       "      <td>NaN</td>\n",
       "    </tr>\n",
       "    <tr>\n",
       "      <td>2009-01-05</td>\n",
       "      <td>0.022563</td>\n",
       "      <td>0.003454</td>\n",
       "      <td>0.052997</td>\n",
       "      <td>0.024653</td>\n",
       "      <td>-0.034290</td>\n",
       "    </tr>\n",
       "    <tr>\n",
       "      <td>2009-01-06</td>\n",
       "      <td>0.013848</td>\n",
       "      <td>0.017094</td>\n",
       "      <td>0.027298</td>\n",
       "      <td>0.019595</td>\n",
       "      <td>-0.012048</td>\n",
       "    </tr>\n",
       "    <tr>\n",
       "      <td>2009-01-07</td>\n",
       "      <td>-0.040086</td>\n",
       "      <td>-0.025752</td>\n",
       "      <td>-0.064034</td>\n",
       "      <td>-0.045811</td>\n",
       "      <td>-0.004363</td>\n",
       "    </tr>\n",
       "    <tr>\n",
       "      <td>2009-01-08</td>\n",
       "      <td>0.042048</td>\n",
       "      <td>0.000000</td>\n",
       "      <td>0.043554</td>\n",
       "      <td>0.031528</td>\n",
       "      <td>0.009410</td>\n",
       "    </tr>\n",
       "    <tr>\n",
       "      <td>...</td>\n",
       "      <td>...</td>\n",
       "      <td>...</td>\n",
       "      <td>...</td>\n",
       "      <td>...</td>\n",
       "      <td>...</td>\n",
       "    </tr>\n",
       "    <tr>\n",
       "      <td>2019-11-18</td>\n",
       "      <td>-0.007537</td>\n",
       "      <td>-0.002593</td>\n",
       "      <td>0.012895</td>\n",
       "      <td>0.001366</td>\n",
       "      <td>0.006284</td>\n",
       "    </tr>\n",
       "    <tr>\n",
       "      <td>2019-11-19</td>\n",
       "      <td>-0.010370</td>\n",
       "      <td>-0.016692</td>\n",
       "      <td>0.011694</td>\n",
       "      <td>-0.003419</td>\n",
       "      <td>0.006245</td>\n",
       "    </tr>\n",
       "    <tr>\n",
       "      <td>2019-11-21</td>\n",
       "      <td>0.036504</td>\n",
       "      <td>0.015067</td>\n",
       "      <td>0.005177</td>\n",
       "      <td>-0.011019</td>\n",
       "      <td>0.022385</td>\n",
       "    </tr>\n",
       "    <tr>\n",
       "      <td>2019-11-22</td>\n",
       "      <td>0.004346</td>\n",
       "      <td>-0.000976</td>\n",
       "      <td>0.032710</td>\n",
       "      <td>0.006213</td>\n",
       "      <td>0.006619</td>\n",
       "    </tr>\n",
       "    <tr>\n",
       "      <td>2019-11-25</td>\n",
       "      <td>-0.008374</td>\n",
       "      <td>-0.009482</td>\n",
       "      <td>0.016454</td>\n",
       "      <td>0.001376</td>\n",
       "      <td>0.000550</td>\n",
       "    </tr>\n",
       "  </tbody>\n",
       "</table>\n",
       "<p>2659 rows × 5 columns</p>\n",
       "</div>"
      ],
      "text/plain": [
       "            PETR4.SA  ITUB3.SA  VALE3.SA  WEGE3.SA  ABEV3.SA\n",
       "Date                                                        \n",
       "2009-01-02       NaN       NaN       NaN       NaN       NaN\n",
       "2009-01-05  0.022563  0.003454  0.052997  0.024653 -0.034290\n",
       "2009-01-06  0.013848  0.017094  0.027298  0.019595 -0.012048\n",
       "2009-01-07 -0.040086 -0.025752 -0.064034 -0.045811 -0.004363\n",
       "2009-01-08  0.042048  0.000000  0.043554  0.031528  0.009410\n",
       "...              ...       ...       ...       ...       ...\n",
       "2019-11-18 -0.007537 -0.002593  0.012895  0.001366  0.006284\n",
       "2019-11-19 -0.010370 -0.016692  0.011694 -0.003419  0.006245\n",
       "2019-11-21  0.036504  0.015067  0.005177 -0.011019  0.022385\n",
       "2019-11-22  0.004346 -0.000976  0.032710  0.006213  0.006619\n",
       "2019-11-25 -0.008374 -0.009482  0.016454  0.001376  0.000550\n",
       "\n",
       "[2659 rows x 5 columns]"
      ]
     },
     "execution_count": 19,
     "metadata": {},
     "output_type": "execute_result"
    }
   ],
   "source": [
    "sec_returns"
   ]
  },
  {
   "cell_type": "code",
   "execution_count": 20,
   "metadata": {},
   "outputs": [
    {
     "data": {
      "text/plain": [
       "0.0001425113637312228"
      ]
     },
     "execution_count": 20,
     "metadata": {},
     "output_type": "execute_result"
    }
   ],
   "source": [
    "sec_returns['PETR4.SA'].mean()"
   ]
  },
  {
   "cell_type": "code",
   "execution_count": 21,
   "metadata": {},
   "outputs": [
    {
     "data": {
      "text/plain": [
       "0.0356278409328057"
      ]
     },
     "execution_count": 21,
     "metadata": {},
     "output_type": "execute_result"
    }
   ],
   "source": [
    "sec_returns['PETR4.SA'].mean() * 250"
   ]
  },
  {
   "cell_type": "code",
   "execution_count": 22,
   "metadata": {},
   "outputs": [
    {
     "data": {
      "text/plain": [
       "0.4355458169382495"
      ]
     },
     "execution_count": 22,
     "metadata": {},
     "output_type": "execute_result"
    }
   ],
   "source": [
    "sec_returns['PETR4.SA'].std() * 250 ** 0.5"
   ]
  },
  {
   "cell_type": "code",
   "execution_count": 26,
   "metadata": {},
   "outputs": [
    {
     "data": {
      "text/plain": [
       "PETR4.SA    0.435546\n",
       "ITUB3.SA    0.285229\n",
       "VALE3.SA    0.416405\n",
       "WEGE3.SA    0.282574\n",
       "ABEV3.SA    0.245875\n",
       "dtype: float64"
      ]
     },
     "execution_count": 26,
     "metadata": {},
     "output_type": "execute_result"
    }
   ],
   "source": [
    "sec_returns[['PETR4.SA', 'ITUB3.SA', 'VALE3.SA', 'WEGE3.SA', 'ABEV3.SA']].std() * 250 ** 0.5"
   ]
  },
  {
   "cell_type": "code",
   "execution_count": 27,
   "metadata": {},
   "outputs": [
    {
     "data": {
      "text/plain": [
       "0.0007588006346096287"
      ]
     },
     "execution_count": 27,
     "metadata": {},
     "output_type": "execute_result"
    }
   ],
   "source": [
    "PETRO_var = sec_returns['PETR4.SA'].var()\n",
    "PETRO_var"
   ]
  },
  {
   "cell_type": "code",
   "execution_count": 28,
   "metadata": {},
   "outputs": [
    {
     "data": {
      "text/html": [
       "<div>\n",
       "<style scoped>\n",
       "    .dataframe tbody tr th:only-of-type {\n",
       "        vertical-align: middle;\n",
       "    }\n",
       "\n",
       "    .dataframe tbody tr th {\n",
       "        vertical-align: top;\n",
       "    }\n",
       "\n",
       "    .dataframe thead th {\n",
       "        text-align: right;\n",
       "    }\n",
       "</style>\n",
       "<table border=\"1\" class=\"dataframe\">\n",
       "  <thead>\n",
       "    <tr style=\"text-align: right;\">\n",
       "      <th></th>\n",
       "      <th>PETR4.SA</th>\n",
       "      <th>ITUB3.SA</th>\n",
       "      <th>VALE3.SA</th>\n",
       "      <th>WEGE3.SA</th>\n",
       "      <th>ABEV3.SA</th>\n",
       "    </tr>\n",
       "  </thead>\n",
       "  <tbody>\n",
       "    <tr>\n",
       "      <td>PETR4.SA</td>\n",
       "      <td>0.000759</td>\n",
       "      <td>0.000254</td>\n",
       "      <td>0.000339</td>\n",
       "      <td>0.000113</td>\n",
       "      <td>0.000111</td>\n",
       "    </tr>\n",
       "    <tr>\n",
       "      <td>ITUB3.SA</td>\n",
       "      <td>0.000254</td>\n",
       "      <td>0.000325</td>\n",
       "      <td>0.000159</td>\n",
       "      <td>0.000100</td>\n",
       "      <td>0.000093</td>\n",
       "    </tr>\n",
       "    <tr>\n",
       "      <td>VALE3.SA</td>\n",
       "      <td>0.000339</td>\n",
       "      <td>0.000159</td>\n",
       "      <td>0.000694</td>\n",
       "      <td>0.000097</td>\n",
       "      <td>0.000094</td>\n",
       "    </tr>\n",
       "    <tr>\n",
       "      <td>WEGE3.SA</td>\n",
       "      <td>0.000113</td>\n",
       "      <td>0.000100</td>\n",
       "      <td>0.000097</td>\n",
       "      <td>0.000319</td>\n",
       "      <td>0.000072</td>\n",
       "    </tr>\n",
       "    <tr>\n",
       "      <td>ABEV3.SA</td>\n",
       "      <td>0.000111</td>\n",
       "      <td>0.000093</td>\n",
       "      <td>0.000094</td>\n",
       "      <td>0.000072</td>\n",
       "      <td>0.000242</td>\n",
       "    </tr>\n",
       "  </tbody>\n",
       "</table>\n",
       "</div>"
      ],
      "text/plain": [
       "          PETR4.SA  ITUB3.SA  VALE3.SA  WEGE3.SA  ABEV3.SA\n",
       "PETR4.SA  0.000759  0.000254  0.000339  0.000113  0.000111\n",
       "ITUB3.SA  0.000254  0.000325  0.000159  0.000100  0.000093\n",
       "VALE3.SA  0.000339  0.000159  0.000694  0.000097  0.000094\n",
       "WEGE3.SA  0.000113  0.000100  0.000097  0.000319  0.000072\n",
       "ABEV3.SA  0.000111  0.000093  0.000094  0.000072  0.000242"
      ]
     },
     "execution_count": 28,
     "metadata": {},
     "output_type": "execute_result"
    }
   ],
   "source": [
    "conv_matrix = sec_returns.cov()\n",
    "conv_matrix"
   ]
  },
  {
   "cell_type": "code",
   "execution_count": 29,
   "metadata": {},
   "outputs": [
    {
     "data": {
      "text/html": [
       "<div>\n",
       "<style scoped>\n",
       "    .dataframe tbody tr th:only-of-type {\n",
       "        vertical-align: middle;\n",
       "    }\n",
       "\n",
       "    .dataframe tbody tr th {\n",
       "        vertical-align: top;\n",
       "    }\n",
       "\n",
       "    .dataframe thead th {\n",
       "        text-align: right;\n",
       "    }\n",
       "</style>\n",
       "<table border=\"1\" class=\"dataframe\">\n",
       "  <thead>\n",
       "    <tr style=\"text-align: right;\">\n",
       "      <th></th>\n",
       "      <th>PETR4.SA</th>\n",
       "      <th>ITUB3.SA</th>\n",
       "      <th>VALE3.SA</th>\n",
       "      <th>WEGE3.SA</th>\n",
       "      <th>ABEV3.SA</th>\n",
       "    </tr>\n",
       "  </thead>\n",
       "  <tbody>\n",
       "    <tr>\n",
       "      <td>PETR4.SA</td>\n",
       "      <td>0.189700</td>\n",
       "      <td>0.063547</td>\n",
       "      <td>0.084736</td>\n",
       "      <td>0.028312</td>\n",
       "      <td>0.027832</td>\n",
       "    </tr>\n",
       "    <tr>\n",
       "      <td>ITUB3.SA</td>\n",
       "      <td>0.063547</td>\n",
       "      <td>0.081356</td>\n",
       "      <td>0.039715</td>\n",
       "      <td>0.024976</td>\n",
       "      <td>0.023284</td>\n",
       "    </tr>\n",
       "    <tr>\n",
       "      <td>VALE3.SA</td>\n",
       "      <td>0.084736</td>\n",
       "      <td>0.039715</td>\n",
       "      <td>0.173393</td>\n",
       "      <td>0.024272</td>\n",
       "      <td>0.023475</td>\n",
       "    </tr>\n",
       "    <tr>\n",
       "      <td>WEGE3.SA</td>\n",
       "      <td>0.028312</td>\n",
       "      <td>0.024976</td>\n",
       "      <td>0.024272</td>\n",
       "      <td>0.079848</td>\n",
       "      <td>0.017948</td>\n",
       "    </tr>\n",
       "    <tr>\n",
       "      <td>ABEV3.SA</td>\n",
       "      <td>0.027832</td>\n",
       "      <td>0.023284</td>\n",
       "      <td>0.023475</td>\n",
       "      <td>0.017948</td>\n",
       "      <td>0.060455</td>\n",
       "    </tr>\n",
       "  </tbody>\n",
       "</table>\n",
       "</div>"
      ],
      "text/plain": [
       "          PETR4.SA  ITUB3.SA  VALE3.SA  WEGE3.SA  ABEV3.SA\n",
       "PETR4.SA  0.189700  0.063547  0.084736  0.028312  0.027832\n",
       "ITUB3.SA  0.063547  0.081356  0.039715  0.024976  0.023284\n",
       "VALE3.SA  0.084736  0.039715  0.173393  0.024272  0.023475\n",
       "WEGE3.SA  0.028312  0.024976  0.024272  0.079848  0.017948\n",
       "ABEV3.SA  0.027832  0.023284  0.023475  0.017948  0.060455"
      ]
     },
     "execution_count": 29,
     "metadata": {},
     "output_type": "execute_result"
    }
   ],
   "source": [
    "cov_matrix_a = sec_returns.cov() * 250\n",
    "cov_matrix_a"
   ]
  },
  {
   "cell_type": "code",
   "execution_count": 30,
   "metadata": {},
   "outputs": [],
   "source": [
    "corr_matrix = sec_returns.corr()"
   ]
  },
  {
   "cell_type": "code",
   "execution_count": 31,
   "metadata": {},
   "outputs": [
    {
     "data": {
      "text/html": [
       "<div>\n",
       "<style scoped>\n",
       "    .dataframe tbody tr th:only-of-type {\n",
       "        vertical-align: middle;\n",
       "    }\n",
       "\n",
       "    .dataframe tbody tr th {\n",
       "        vertical-align: top;\n",
       "    }\n",
       "\n",
       "    .dataframe thead th {\n",
       "        text-align: right;\n",
       "    }\n",
       "</style>\n",
       "<table border=\"1\" class=\"dataframe\">\n",
       "  <thead>\n",
       "    <tr style=\"text-align: right;\">\n",
       "      <th></th>\n",
       "      <th>PETR4.SA</th>\n",
       "      <th>ITUB3.SA</th>\n",
       "      <th>VALE3.SA</th>\n",
       "      <th>WEGE3.SA</th>\n",
       "      <th>ABEV3.SA</th>\n",
       "    </tr>\n",
       "  </thead>\n",
       "  <tbody>\n",
       "    <tr>\n",
       "      <td>PETR4.SA</td>\n",
       "      <td>1.000000</td>\n",
       "      <td>0.511219</td>\n",
       "      <td>0.467108</td>\n",
       "      <td>0.229989</td>\n",
       "      <td>0.259717</td>\n",
       "    </tr>\n",
       "    <tr>\n",
       "      <td>ITUB3.SA</td>\n",
       "      <td>0.511219</td>\n",
       "      <td>1.000000</td>\n",
       "      <td>0.334282</td>\n",
       "      <td>0.309771</td>\n",
       "      <td>0.332288</td>\n",
       "    </tr>\n",
       "    <tr>\n",
       "      <td>VALE3.SA</td>\n",
       "      <td>0.467108</td>\n",
       "      <td>0.334282</td>\n",
       "      <td>1.000000</td>\n",
       "      <td>0.206282</td>\n",
       "      <td>0.229146</td>\n",
       "    </tr>\n",
       "    <tr>\n",
       "      <td>WEGE3.SA</td>\n",
       "      <td>0.229989</td>\n",
       "      <td>0.309771</td>\n",
       "      <td>0.206282</td>\n",
       "      <td>1.000000</td>\n",
       "      <td>0.258161</td>\n",
       "    </tr>\n",
       "    <tr>\n",
       "      <td>ABEV3.SA</td>\n",
       "      <td>0.259717</td>\n",
       "      <td>0.332288</td>\n",
       "      <td>0.229146</td>\n",
       "      <td>0.258161</td>\n",
       "      <td>1.000000</td>\n",
       "    </tr>\n",
       "  </tbody>\n",
       "</table>\n",
       "</div>"
      ],
      "text/plain": [
       "          PETR4.SA  ITUB3.SA  VALE3.SA  WEGE3.SA  ABEV3.SA\n",
       "PETR4.SA  1.000000  0.511219  0.467108  0.229989  0.259717\n",
       "ITUB3.SA  0.511219  1.000000  0.334282  0.309771  0.332288\n",
       "VALE3.SA  0.467108  0.334282  1.000000  0.206282  0.229146\n",
       "WEGE3.SA  0.229989  0.309771  0.206282  1.000000  0.258161\n",
       "ABEV3.SA  0.259717  0.332288  0.229146  0.258161  1.000000"
      ]
     },
     "execution_count": 31,
     "metadata": {},
     "output_type": "execute_result"
    }
   ],
   "source": [
    "corr_matrix"
   ]
  },
  {
   "cell_type": "code",
   "execution_count": 35,
   "metadata": {},
   "outputs": [],
   "source": [
    "weights = np.array([0.20, 0.20, 0.20, 0.20, 0.20])"
   ]
  },
  {
   "cell_type": "code",
   "execution_count": 36,
   "metadata": {},
   "outputs": [
    {
     "data": {
      "text/plain": [
       "0.05203787908005087"
      ]
     },
     "execution_count": 36,
     "metadata": {},
     "output_type": "execute_result"
    }
   ],
   "source": [
    "pfolio_var = np.dot(weights.T, np.dot(sec_returns.cov() * 250, weights))\n",
    "pfolio_var"
   ]
  },
  {
   "cell_type": "code",
   "execution_count": 39,
   "metadata": {},
   "outputs": [
    {
     "data": {
      "text/plain": [
       "0.0026018939540025437"
      ]
     },
     "execution_count": 39,
     "metadata": {},
     "output_type": "execute_result"
    }
   ],
   "source": [
    "pfolio_vol = np.dot(weights.T, np.dot(sec_returns.cov() * 250, weights)) * 0.05\n",
    "pfolio_vol"
   ]
  },
  {
   "cell_type": "code",
   "execution_count": 40,
   "metadata": {},
   "outputs": [
    {
     "name": "stdout",
     "output_type": "stream",
     "text": [
      "0.26%\n"
     ]
    }
   ],
   "source": [
    "print (str(round(pfolio_vol, 5) * 100) + '%')"
   ]
  },
  {
   "cell_type": "code",
   "execution_count": null,
   "metadata": {},
   "outputs": [],
   "source": []
  }
 ],
 "metadata": {
  "kernelspec": {
   "display_name": "Python 3",
   "language": "python",
   "name": "python3"
  },
  "language_info": {
   "codemirror_mode": {
    "name": "ipython",
    "version": 3
   },
   "file_extension": ".py",
   "mimetype": "text/x-python",
   "name": "python",
   "nbconvert_exporter": "python",
   "pygments_lexer": "ipython3",
   "version": "3.7.4"
  }
 },
 "nbformat": 4,
 "nbformat_minor": 2
}
